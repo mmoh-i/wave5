{
 "cells": [
  {
   "cell_type": "code",
   "execution_count": 21,
   "metadata": {},
   "outputs": [
    {
     "name": "stdout",
     "output_type": "stream",
     "text": [
      "Letter Array:  ['a' 'b' 'c' 'd' 'e' 'g' 'h' 'i' 'j']\n",
      "dtype of array: <class 'numpy.ndarray'>\n",
      "shape of array: (9,)\n",
      "size of array: 9\n"
     ]
    }
   ],
   "source": [
    "#Q1 abc_numpy solution\n",
    "#Create a numpy array of strings containing letters 'a' through 'j' (inclusive) of the alphabet. Then, use numpy array attributes to print the following information about this array:\n",
    "\n",
    "#dtype of array\n",
    "\n",
    "#shape of array\n",
    "#size of array\n",
    "\n",
    "#The code you submit in the code editor below will not be graded. Use the results from your code below, along with what you remember from the previous video, to complete the quiz below the code editor.\n",
    "\n",
    "\n",
    "\n",
    "import numpy as np\n",
    "\n",
    "# create numpy array of letters a-j\n",
    "letter_array = np.array(['a', 'b', 'c', 'd', 'e', 'g', 'h', 'i', 'j'])\n",
    "print(\"Letter Array: \", letter_array)\n",
    "\n",
    "# get dtype of array\n",
    "print('dtype of array:',type(letter_array))\n",
    "\n",
    "# get shape of array\n",
    "print('shape of array:',letter_array.shape)\n",
    "\n",
    "# get size of array\n",
    "print('size of array:',letter_array.size)"
   ]
  },
  {
   "cell_type": "code",
   "execution_count": 11,
   "metadata": {},
   "outputs": [
    {
     "data": {
      "text/plain": [
       "array([[1, 1, 1, 1],\n",
       "       [2, 2, 2, 2],\n",
       "       [3, 3, 3, 3]])"
      ]
     },
     "execution_count": 11,
     "metadata": {},
     "output_type": "execute_result"
    }
   ],
   "source": [
    "#Q2 numpy_ndarray\n",
    "import numpy as np\n",
    "\n",
    "# Use Broadcasting to create a 4 x 4 ndarray that has its first\n",
    "# column full of 1s, its second column full of 2s, its third\n",
    "# column full of 3s, etc.. \n",
    "\n",
    "X = np.array([[1,1,1,1],\n",
    "             [2,2,2,2],\n",
    "             [3,3,3,3]])\n",
    "X"
   ]
  },
  {
   "cell_type": "code",
   "execution_count": 18,
   "metadata": {},
   "outputs": [
    {
     "name": "stdout",
     "output_type": "stream",
     "text": [
      "[[ 2  4  6  8]\n",
      " [10 12 14 16]\n",
      " [18 20 22 24]\n",
      " [26 28 30 32]]\n"
     ]
    }
   ],
   "source": [
    "#Q3 numpy_ndarray1\n",
    "import numpy as np\n",
    "\n",
    "# Using the Built-in functions you learned about in the\n",
    "# previous lesson, create a 4 x 4 ndarray that only\n",
    "# contains consecutive even numbers from 2 to 32 (inclusive)\n",
    "\n",
    "X = np.arange(2,33,2).reshape(4,4)\n",
    "print(X)"
   ]
  },
  {
   "cell_type": "code",
   "execution_count": 15,
   "metadata": {},
   "outputs": [
    {
     "name": "stdout",
     "output_type": "stream",
     "text": [
      "[[ True False  True False  True]\n",
      " [False  True False  True False]\n",
      " [ True False  True False  True]\n",
      " [False  True False  True False]\n",
      " [ True False  True False  True]]\n"
     ]
    }
   ],
   "source": [
    "#Q4 pick_odd\n",
    "import numpy as np\n",
    "\n",
    "# Create a 5 x 5 ndarray with consecutive integers from 1 to 25 (inclusive).\n",
    "# Afterwards use Boolean indexing to pick out only the odd numbers in the array\n",
    "\n",
    "# Create a 5 x 5 ndarray with consecutive integers from 1 to 25 (inclusive).\n",
    "X = np.array([[1,2,3,4,5],\n",
    "              [6,7,8,9,10],\n",
    "              [11,12,13,14,15],\n",
    "              [16,17,18,19,20],\n",
    "              [21,22,23,24,25]])\n",
    "\n",
    "# Use Boolean indexing to pick out only the odd numbers in the array\n",
    "Y = X % 2 != 0\n",
    "print(Y)             \n",
    "             "
   ]
  }
 ],
 "metadata": {
  "kernelspec": {
   "display_name": "Python 3",
   "language": "python",
   "name": "python3"
  },
  "language_info": {
   "codemirror_mode": {
    "name": "ipython",
    "version": 3
   },
   "file_extension": ".py",
   "mimetype": "text/x-python",
   "name": "python",
   "nbconvert_exporter": "python",
   "pygments_lexer": "ipython3",
   "version": "3.7.2"
  }
 },
 "nbformat": 4,
 "nbformat_minor": 4
}
